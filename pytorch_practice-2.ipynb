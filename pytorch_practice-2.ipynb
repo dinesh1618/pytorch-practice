{
 "cells": [
  {
   "cell_type": "code",
   "execution_count": null,
   "id": "51ed9663",
   "metadata": {},
   "outputs": [],
   "source": [
    "import torch\n",
    "import torch.nn as nn\n",
    "from torch.utils.data import DataLoader, WeightedRandomSampler\n",
    "import torchvision.transforms as transforms\n",
    "import torchvision.datasets as datasets"
   ]
  },
  {
   "cell_type": "code",
   "execution_count": null,
   "id": "02919600",
   "metadata": {},
   "outputs": [],
   "source": [
    "import os"
   ]
  },
  {
   "cell_type": "code",
   "execution_count": null,
   "id": "8530f569",
   "metadata": {},
   "outputs": [],
   "source": [
    "my_transforms = transforms.Compose([\n",
    "    transforms.Resize((224, 224)),\n",
    "    transforms.ToTensor()\n",
    "])"
   ]
  },
  {
   "cell_type": "code",
   "execution_count": null,
   "id": "c1c70aed",
   "metadata": {},
   "outputs": [],
   "source": [
    "path = r'C:\\Users\\dines\\OneDrive\\Documents\\torch-nlp\\dataset'\n",
    "dataset = datasets.ImageFolder(root=r'C:\\Users\\dines\\OneDrive\\Documents\\torch-nlp\\dataset', transform=my_transforms)\n",
    "subdir = dataset.classes\n",
    "class_weights = []\n",
    "subdir"
   ]
  },
  {
   "cell_type": "code",
   "execution_count": null,
   "id": "ca41b888",
   "metadata": {},
   "outputs": [],
   "source": [
    "for sdir in subdir:\n",
    "    files = os.listdir(os.path.join(path, sdir))\n",
    "    class_weights.append(1/len(files))"
   ]
  },
  {
   "cell_type": "code",
   "execution_count": null,
   "id": "64ea9f8a",
   "metadata": {},
   "outputs": [],
   "source": [
    "sample_weight = [0]*len(dataset)"
   ]
  },
  {
   "cell_type": "code",
   "execution_count": null,
   "id": "197599c7",
   "metadata": {},
   "outputs": [],
   "source": [
    "len([label for data, label in dataset])\n",
    "# for data, label in dataset:\n",
    "#     print(label)"
   ]
  },
  {
   "cell_type": "code",
   "execution_count": null,
   "id": "fdef28a9",
   "metadata": {},
   "outputs": [],
   "source": [
    "class_weights"
   ]
  },
  {
   "cell_type": "code",
   "execution_count": null,
   "id": "cc798631",
   "metadata": {},
   "outputs": [],
   "source": [
    "def get_loader(root_dir, batch_size):\n",
    "    my_transforms = transforms.Compose(\n",
    "        [\n",
    "            transforms.Resize((224, 224)),\n",
    "            transforms.ToTensor(),\n",
    "        ]\n",
    "    )\n",
    "\n",
    "    dataset = datasets.ImageFolder(root=root_dir, transform=my_transforms)\n",
    "    subdirectories = dataset.classes\n",
    "    class_weights = []\n",
    "\n",
    "    # loop through each subdirectory and calculate the class weight\n",
    "    # that is 1 / len(files) in that subdirectory\n",
    "    for subdir in subdirectories:\n",
    "        files = os.listdir(os.path.join(root_dir, subdir))\n",
    "        class_weights.append(1 / len(files))\n",
    "\n",
    "    sample_weights = [0] * len(dataset)\n",
    "\n",
    "    for idx, (data, label) in enumerate(dataset):\n",
    "        class_weight = class_weights[label]\n",
    "        sample_weights[idx] = class_weight\n",
    "\n",
    "    sampler = WeightedRandomSampler(\n",
    "        sample_weights, num_samples=len(sample_weights), replacement=True\n",
    "    )\n",
    "\n",
    "    loader = DataLoader(dataset, batch_size=batch_size, sampler=sampler)\n",
    "    return loader\n",
    "\n",
    "\n",
    "def main():\n",
    "    loader = get_loader(root_dir=r\"C:\\Users\\dines\\OneDrive\\Documents\\torch-nlp\\dataset\", batch_size=8)\n",
    "\n",
    "    num_retrievers = 0\n",
    "    num_elkhounds = 0\n",
    "    for epoch in range(10):\n",
    "        for data, labels in loader:\n",
    "            num_retrievers += torch.sum(labels == 0)\n",
    "            num_elkhounds += torch.sum(labels == 1)\n",
    "\n",
    "    print(num_retrievers.item())\n",
    "    print(num_elkhounds.item())\n",
    "\n",
    "\n",
    "if __name__ == \"__main__\":\n",
    "    main()"
   ]
  },
  {
   "cell_type": "code",
   "execution_count": null,
   "id": "84dbf99d",
   "metadata": {},
   "outputs": [],
   "source": [
    "input_size = 28\n",
    "hidden_size = 256\n",
    "num_layers = 2\n",
    "num_classes = 10\n",
    "sequence_length = 28\n",
    "learning_rate = 0.005\n",
    "batch_size = 64\n",
    "num_epochs = 3\n",
    "\n",
    "# Recurrent neural network (many-to-one)\n",
    "class RNN(nn.Module):\n",
    "    def __init__(self, input_size, hidden_size, num_layers, num_classes):\n",
    "        super(RNN, self).__init__()\n",
    "        self.hidden_size = hidden_size\n",
    "        self.num_layers = num_layers\n",
    "        self.rnn = nn.RNN(input_size, hidden_size, num_layers, batch_first=True)\n",
    "        self.fc = nn.Linear(hidden_size * sequence_length, num_classes)\n",
    "\n",
    "    def forward(self, x):\n",
    "        # Set initial hidden and cell states\n",
    "        h0 = torch.zeros(self.num_layers, x.size(0), self.hidden_size).to(device)\n",
    "\n",
    "        # Forward propagate LSTM\n",
    "        out, _ = self.rnn(x, h0)\n",
    "        out = out.reshape(out.shape[0], -1)\n",
    "\n",
    "        # Decode the hidden state of the last time step\n",
    "        out = self.fc(out)\n",
    "        return out"
   ]
  },
  {
   "cell_type": "code",
   "execution_count": null,
   "id": "39c41f70",
   "metadata": {},
   "outputs": [],
   "source": [
    "train_dataset = datasets.MNIST(\n",
    "    root=\"dataset/\", train=True, transform=transforms.ToTensor(), download=True\n",
    ")"
   ]
  },
  {
   "cell_type": "code",
   "execution_count": null,
   "id": "aa45c068",
   "metadata": {},
   "outputs": [],
   "source": [
    "train_loader = DataLoader(dataset=train_dataset, batch_size=batch_size, shuffle=True)"
   ]
  },
  {
   "cell_type": "code",
   "execution_count": null,
   "id": "54f9cb1d",
   "metadata": {},
   "outputs": [],
   "source": [
    "for data, target in train_loader:\n",
    "    print(data.shape, target.shape)\n",
    "    break"
   ]
  },
  {
   "cell_type": "code",
   "execution_count": null,
   "id": "16cd672d",
   "metadata": {},
   "outputs": [],
   "source": []
  },
  {
   "cell_type": "code",
   "execution_count": null,
   "id": "93aee445",
   "metadata": {},
   "outputs": [],
   "source": [
    "input_size = 28\n",
    "num_layers = 2\n",
    "hidden_size = 256\n",
    "batch_size = 64\n",
    "num_classes = 10\n",
    "sequence_length = 28\n",
    "num_epochs = 3\n",
    "learning_rate = 0.005"
   ]
  },
  {
   "cell_type": "code",
   "execution_count": null,
   "id": "f6809f04",
   "metadata": {},
   "outputs": [],
   "source": [
    "class RNN(nn.Module):\n",
    "    def __init__(self, input_size, hidden_size, num_layers, num_classes):\n",
    "        super(RNN, self).__init__()\n",
    "        self.hidden_size = hidden_size\n",
    "        self.num_layers = num_layers\n",
    "        self.rnn = nn.RNN(input_size, hidden_size, num_layers, batch_first=True)\n",
    "        self.fc = nn.Linear(hidden_size * sequence_length, num_classes)"
   ]
  },
  {
   "cell_type": "code",
   "execution_count": null,
   "id": "82bb4617",
   "metadata": {},
   "outputs": [],
   "source": [
    "import torch\n",
    "\n",
    "# Define a tensor with requires_grad=True to track computation with it\n",
    "x = torch.tensor([3.0], requires_grad=True)\n",
    "\n",
    "# Define a function y = x^2\n",
    "y = x**2\n",
    "\n",
    "# Compute gradients\n",
    "y.backward()\n",
    "\n",
    "# Print out the gradients\n",
    "print(x.grad)\n"
   ]
  },
  {
   "cell_type": "code",
   "execution_count": null,
   "id": "8f16382e",
   "metadata": {},
   "outputs": [],
   "source": [
    "import torch\n",
    "\n",
    "x = torch.tensor([3.0], requires_grad=True)\n",
    "\n",
    "y = x**2\n",
    "y.backward()\n",
    "print(x.grad)"
   ]
  },
  {
   "cell_type": "code",
   "execution_count": null,
   "id": "6069ee34",
   "metadata": {},
   "outputs": [],
   "source": [
    "import torch\n",
    "\n",
    "x = torch.tensor([2.0], requires_grad=True)\n",
    "\n",
    "y = x**3 + 2*x + 1\n",
    "\n",
    "y.backward()\n",
    "\n",
    "print(x.grad)  # should output tensor([17.])\n"
   ]
  },
  {
   "cell_type": "code",
   "execution_count": null,
   "id": "7df4f3fd",
   "metadata": {},
   "outputs": [],
   "source": [
    "import os  # when loading file paths\n",
    "import pandas as pd  # for lookup in annotation file\n",
    "import spacy  # for tokenizer\n",
    "import torch\n",
    "from torch.nn.utils.rnn import pad_sequence  # pad batch\n",
    "from torch.utils.data import DataLoader, Dataset\n",
    "from PIL import Image  # Load img\n",
    "import torchvision.transforms as transforms"
   ]
  },
  {
   "cell_type": "code",
   "execution_count": null,
   "id": "79e064ca",
   "metadata": {},
   "outputs": [],
   "source": [
    "import torch\n",
    "from torch.nn.utils.rnn import pad_sequence\n",
    "from torch.utils.data import DataLoader, Dataset\n",
    "import torchvision.transforms as transforms"
   ]
  },
  {
   "cell_type": "code",
   "execution_count": null,
   "id": "b72d082d",
   "metadata": {},
   "outputs": [],
   "source": [
    "spacy_eng = spacy.load(\"en_core_web_sm\")"
   ]
  },
  {
   "cell_type": "code",
   "execution_count": null,
   "id": "b522c29a",
   "metadata": {},
   "outputs": [],
   "source": [
    "if __name__ == \"__main__\":\n",
    "    transform = transforms.Compose(\n",
    "        [\n",
    "            transforms.Resize((224, 224)),\n",
    "            transforms.ToTensor(),\n",
    "        ]\n",
    "    )\n",
    "\n",
    "    loader, dataset = get_loader(\n",
    "        \"flickr8k/images/\", \"flickr8k/captions.txt\", transform=transform\n",
    "    )\n",
    "\n",
    "    for idx, (imgs, captions) in enumerate(loader):\n",
    "        print(imgs.shape)\n",
    "        print(captions.shape)"
   ]
  },
  {
   "cell_type": "code",
   "execution_count": null,
   "id": "374c8520",
   "metadata": {},
   "outputs": [],
   "source": [
    "transform = transforms.Compose([\n",
    "    transforms.Resize((224, 224)),\n",
    "    transforms.ToTensor()\n",
    "])"
   ]
  },
  {
   "cell_type": "code",
   "execution_count": null,
   "id": "5815cfa9",
   "metadata": {},
   "outputs": [],
   "source": [
    "p = r'C:\\Users\\dines\\OneDrive\\Documents\\torch-nlp\\intel_image_class\\Flickr 8k Dataset\\captions.txt'"
   ]
  },
  {
   "cell_type": "code",
   "execution_count": null,
   "id": "b6076627",
   "metadata": {},
   "outputs": [],
   "source": [
    "df = pd.read_csv(p)\n",
    "df.head()"
   ]
  },
  {
   "cell_type": "code",
   "execution_count": null,
   "id": "6f3c309f",
   "metadata": {},
   "outputs": [],
   "source": [
    "imgs_id = len(list(df['image']))"
   ]
  },
  {
   "cell_type": "code",
   "execution_count": null,
   "id": "3226a2e4",
   "metadata": {},
   "outputs": [],
   "source": [
    "imgs_list = os.listdir(r\"C:\\Users\\dines\\OneDrive\\Documents\\torch-nlp\\intel_image_class\\Flickr 8k Dataset\\images\")"
   ]
  },
  {
   "cell_type": "code",
   "execution_count": null,
   "id": "1cc31eb0",
   "metadata": {},
   "outputs": [],
   "source": [
    "# for i in imgs_list:\n",
    "#     print(df[df['image'] == i])"
   ]
  },
  {
   "cell_type": "code",
   "execution_count": null,
   "id": "77e34453",
   "metadata": {},
   "outputs": [],
   "source": [
    "imgs_id/len(imgs_list)"
   ]
  },
  {
   "cell_type": "code",
   "execution_count": null,
   "id": "3013a75a",
   "metadata": {},
   "outputs": [],
   "source": [
    "from PIL import Image"
   ]
  },
  {
   "cell_type": "code",
   "execution_count": null,
   "id": "5e97c278",
   "metadata": {},
   "outputs": [],
   "source": [
    "Image.open(r'C:\\Users\\dines\\OneDrive\\Documents\\torch-nlp\\intel_image_class\\Flickr 8k Dataset\\images\\1000268201_693b08cb0e.jpg')"
   ]
  },
  {
   "cell_type": "code",
   "execution_count": null,
   "id": "b226b88d",
   "metadata": {},
   "outputs": [],
   "source": []
  },
  {
   "cell_type": "code",
   "execution_count": null,
   "id": "6f5db501",
   "metadata": {},
   "outputs": [],
   "source": []
  },
  {
   "cell_type": "code",
   "execution_count": null,
   "id": "2cbfd3ec",
   "metadata": {},
   "outputs": [],
   "source": []
  },
  {
   "cell_type": "code",
   "execution_count": null,
   "id": "6fd58436",
   "metadata": {},
   "outputs": [],
   "source": [
    "import torch\n",
    "import torch.nn as nn"
   ]
  },
  {
   "cell_type": "code",
   "execution_count": null,
   "id": "f137ab19",
   "metadata": {},
   "outputs": [],
   "source": [
    "# class RNN(nn.Module):\n",
    "#     def __init__(self, input_size, hidden_size, num_layers, num_classes)\n",
    "#         super(RNN, self).__init__()\n",
    "#         self.\n",
    "        "
   ]
  },
  {
   "cell_type": "code",
   "execution_count": null,
   "id": "d0fd7bca",
   "metadata": {},
   "outputs": [],
   "source": [
    "import shutil"
   ]
  },
  {
   "cell_type": "code",
   "execution_count": null,
   "id": "82b3b80b",
   "metadata": {},
   "outputs": [],
   "source": [
    "path = r\"C:\\Users\\dines\\Music\\Pytorch_image_classification\\Cricket_Legends\\Cricket_stars\""
   ]
  },
  {
   "cell_type": "code",
   "execution_count": null,
   "id": "2fed522d",
   "metadata": {},
   "outputs": [],
   "source": [
    "min([len(os.listdir(os.path.join(path, i))) for i in os.listdir(path)])"
   ]
  },
  {
   "cell_type": "code",
   "execution_count": null,
   "id": "9bbeb2f6",
   "metadata": {},
   "outputs": [],
   "source": [
    "cricket_stars = os.listdir(path)\n",
    "for fld in os.listdir(path):\n",
    "    imgs_path = os.path.join(path, fld)\n",
    "    files = shuffle(os.listdir(imgs_path))\n",
    "    train_path = os.path.join(os.path.split(path)[0], 'train')\n",
    "    if not os.path.isdir(train_path):\n",
    "        os.mkdir(train_path)\n",
    "        [os.mkdir(os.path.join(train_path, i)) for i in cricket_stars]\n",
    "    [shutil.copy(i, os.path.join(train_path, fld)) for i in [os.path.join(imgs_path, i) for i in files[:100]]]\n",
    "    test_path = os.path.join(os.path.split(path)[0], 'test')\n",
    "    if not os.path.isdir(test_path):\n",
    "        os.mkdir(test_path)\n",
    "        [os.mkdir(os.path.join(test_path, i)) for i in cricket_stars]\n",
    "    [shutil.copy(i, os.path.join(test_path, fld)) for i in [os.path.join(imgs_path, i) for i in files[100:140]]]\n",
    "    val_path = os.path.join(os.path.split(path)[0], 'val')\n",
    "    if not os.path.isdir(val_path):\n",
    "        os.mkdir(val_path)\n",
    "        [os.mkdir(os.path.join(val_path, i)) for i in cricket_stars]\n",
    "    [shutil.copy(i, os.path.join(val_path, fld)) for i in [os.path.join(imgs_path, i) for i in files[140:]]]"
   ]
  },
  {
   "cell_type": "code",
   "execution_count": null,
   "id": "ff6160af",
   "metadata": {},
   "outputs": [],
   "source": []
  },
  {
   "cell_type": "code",
   "execution_count": null,
   "id": "4cb07c78",
   "metadata": {},
   "outputs": [],
   "source": [
    "import torch\n",
    "import torch.nn as nn\n",
    "import torch.nn.functional as F\n",
    "from torch.utils.data import DataLoader\n",
    "import torchvision.datasets as datasets\n",
    "import torchvision.transforms as transforms"
   ]
  },
  {
   "cell_type": "code",
   "execution_count": null,
   "id": "4fcc96f7",
   "metadata": {},
   "outputs": [],
   "source": [
    "input_size = 28\n",
    "hidden_size = 256\n",
    "num_layers = 2\n",
    "num_classes = 10\n",
    "sequence_length = 28\n",
    "learning_rate = 0.005\n",
    "batch_size = 64\n",
    "epochs = 3"
   ]
  },
  {
   "cell_type": "code",
   "execution_count": null,
   "id": "22a21887",
   "metadata": {},
   "outputs": [],
   "source": [
    "class RNN(nn.Module):\n",
    "    def __init__(self, input_size, hidden_size, num_layers, num_classes):\n",
    "        super(RNN, self).__init__()\n",
    "        self.hidden_size = hidden_size\n",
    "        self.num_layers = num_layers\n",
    "        self.rnn = nn.RNN(input_size, hidden_size, num_layers, batch_first=True)\n",
    "        self.fc = nn.Linear(hidden_size * sequence_length, num_classes)\n",
    "\n",
    "    def forward(self, x):\n",
    "        # Set initial hidden and cell states\n",
    "        h0 = torch.zeros(self.num_layers, x.size(0), self.hidden_size).to(device)\n",
    "\n",
    "        # Forward propagate LSTM\n",
    "        out, _ = self.rnn(x, h0)\n",
    "        out = out.reshape(out.shape[0], -1)\n",
    "\n",
    "        # Decode the hidden state of the last time step\n",
    "        out = self.fc(out)\n",
    "        return "
   ]
  },
  {
   "cell_type": "code",
   "execution_count": null,
   "id": "97b75d8c",
   "metadata": {},
   "outputs": [],
   "source": [
    "device = torch.device('cuda' if torch.cuda.is_available() else 'cpu')"
   ]
  },
  {
   "cell_type": "code",
   "execution_count": null,
   "id": "288b5693",
   "metadata": {},
   "outputs": [],
   "source": [
    "class RNN(nn.Module):\n",
    "    def __init__(self, input_size, hidden_size, num_layers, num_classes):\n",
    "        super(RNN, self).__init__()\n",
    "        self.hidden_size = hidden_size\n",
    "        self.num_layers = num_layers\n",
    "        self.rnn = nn.RNN(input_size, hidden_size, num_layers, batch_first=True)\n",
    "        self.fc = nn.Linear(hidden_size * sequence_length, num_classes)\n",
    "        \n",
    "    def forward(self, X):\n",
    "        h0 = torch.randn(self.num_layers, x.size(0), self.hidden_size).to(device)\n",
    "        out, _ = self.rnn(x, h0)\n",
    "        out = out.reshape(out.shape[0], -1)\n",
    "        out = self.fc(out)\n",
    "        return"
   ]
  },
  {
   "cell_type": "code",
   "execution_count": null,
   "id": "5e1aa493",
   "metadata": {},
   "outputs": [],
   "source": [
    "class RNN_LSTM(nn.Module):\n",
    "    def __init__(self, input_size, hidden_size, num_layers, num_classes):\n",
    "        super(RNN_LSTM, self).__init__()\n",
    "        self.hidden_size = hidden_size\n",
    "        self.num_layers = num_layers\n",
    "        self.lstm = nn.LSTM(input_size, hidden_size, num_layers, batch_first=True)\n",
    "        self.fc = nn.Linear(hidden_size * sequence_length, num_classes)\n",
    "\n",
    "    def forward(self, x):\n",
    "        # Set initial hidden and cell states\n",
    "        h0 = torch.zeros(self.num_layers, x.size(0), self.hidden_size).to(device)\n",
    "        c0 = torch.zeros(self.num_layers, x.size(0), self.hidden_size).to(device)\n",
    "\n",
    "        # Forward propagate LSTM\n",
    "        out, _ = self.lstm(\n",
    "            x, (h0, c0)\n",
    "        )  # out: tensor of shape (batch_size, seq_length, hidden_size)\n",
    "        out = out.reshape(out.shape[0], -1)\n",
    "\n",
    "        # Decode the hidden state of the last time step\n",
    "        out = self.fc(out)\n",
    "        return "
   ]
  },
  {
   "cell_type": "code",
   "execution_count": null,
   "id": "781c7951",
   "metadata": {},
   "outputs": [],
   "source": [
    "class RNN_LSTM(nn.Module):\n",
    "    def __init__(self, input_size, hidden_size, num_layers, num_classes):\n",
    "        super(RNN_LSTM, self).__init__()\n",
    "        self.hidden_size = hidden_size\n",
    "        self.num_layers = num_layers\n",
    "        \n",
    "        "
   ]
  },
  {
   "cell_type": "code",
   "execution_count": null,
   "id": "4065d791",
   "metadata": {},
   "outputs": [],
   "source": [
    "import torch\n",
    "import torch.nn as nn\n",
    "import torch.nn.functional as F\n",
    "import torch.optim as optim\n",
    "from torch.utils.data import DataLoader\n",
    "import torchvision.datasets as datasets\n",
    "import torchvision.transforms as transforms"
   ]
  },
  {
   "cell_type": "code",
   "execution_count": null,
   "id": "f0e73f0e",
   "metadata": {},
   "outputs": [],
   "source": [
    "train = datasets.MNIST(root='/datasets', train=True, transform=transforms.ToTensor() ,download=True)\n",
    "test = datasets.MNIST(root='datasets', train=False, transform=transforms.ToTensor(), download=True)"
   ]
  },
  {
   "cell_type": "code",
   "execution_count": null,
   "id": "a0bac6d3",
   "metadata": {},
   "outputs": [],
   "source": [
    "train_load = DataLoader(train, batch_size=64, shuffle=True)\n",
    "test_load = DataLoader(test, batch_size=64, shuffle=True)"
   ]
  },
  {
   "cell_type": "code",
   "execution_count": null,
   "id": "7088315f",
   "metadata": {},
   "outputs": [],
   "source": [
    "for images, labels in train_load:\n",
    "    print(images.shape, labels.shape)\n",
    "    break"
   ]
  },
  {
   "cell_type": "code",
   "execution_count": null,
   "id": "8a31e1a3",
   "metadata": {},
   "outputs": [],
   "source": [
    "input_size = 28\n",
    "hidden_size = 256\n",
    "num_layers = 2\n",
    "num_classes = 10\n",
    "sequence_length = 28\n",
    "learning_rate = 0.005\n",
    "batch_size = 64\n",
    "num_epochs = 3\n"
   ]
  },
  {
   "cell_type": "code",
   "execution_count": null,
   "id": "d2f59a65",
   "metadata": {},
   "outputs": [],
   "source": [
    "input_size = 28\n",
    "hidden_size = 256\n",
    "num_layers = 2\n",
    "num_classes = 10\n",
    "sequence_length = 28\n",
    "learning_rate = 0.001\n",
    "batch_size = 64\n",
    "num_epochs = 3"
   ]
  },
  {
   "cell_type": "code",
   "execution_count": null,
   "id": "dbb9632d",
   "metadata": {},
   "outputs": [],
   "source": [
    "def remove_emoji(text):\n",
    "    emoji_pattern = re.compile(\"[\"\n",
    "                           u\"\\U0001F600-\\U0001F64F\"  # emoticons\n",
    "                           u\"\\U0001F300-\\U0001F5FF\"  # symbols & pictographs\n",
    "                           u\"\\U0001F680-\\U0001F6FF\"  # transport & map symbols\n",
    "                           u\"\\U0001F1E0-\\U0001F1FF\"  # flags (iOS)\n",
    "                           u\"\\U00002702-\\U000027B0\"\n",
    "                           u\"\\U000024C2-\\U0001F251\"\n",
    "                           \"]+\", flags=re.UNICODE)\n",
    "    return emoji_pattern.sub(r'', text)\n",
    "\n",
    "def remove_url(text): \n",
    "    url_pattern  = re.compile('http[s]?://(?:[a-zA-Z]|[0-9]|[$-_@.&+]|[!*\\(\\),]|(?:%[0-9a-fA-F][0-9a-fA-F]))+')\n",
    "    return url_pattern.sub(r'', text)\n",
    "\n",
    "def clean_text(text ):\n",
    "    words = text.translate(str.maketrans('', '', string.punctuation)).split()\n",
    "    words = ' '.join([w for w in words if not w.isdigit() and len(w)>2])\n",
    "    return words.lower()\n"
   ]
  },
  {
   "cell_type": "code",
   "execution_count": null,
   "id": "f2857774",
   "metadata": {},
   "outputs": [],
   "source": [
    "import pandas as pd\n",
    "import re, string\n",
    "from sklearn.preprocessing import LabelEncoder\n",
    "from sklearn.model_selection import train_test_split\n",
    "from collections import Counter\n",
    "\n",
    "import torch\n",
    "import torch.nn as nn\n",
    "from torch.utils.data import DataLoader\n",
    "from torchtext.data.utils import get_tokenizer\n",
    "from torchtext.vocab import build_vocab_from_iterator"
   ]
  },
  {
   "cell_type": "code",
   "execution_count": null,
   "id": "ca072285",
   "metadata": {},
   "outputs": [],
   "source": [
    "def processingText(data, type='train'):\n",
    "    df = pd.read_csv(data)\n",
    "    df.dropna(axis=0, how='any', inplace=True)\n",
    "    df['len_text'] = df['text'].apply(lambda x: len(str(x).split()))\n",
    "    df = df[df['len_text']>2]\n",
    "    print('-------------------------')\n",
    "    print(df['sentiment'].value_counts())\n",
    "    # mask = df['len_text']>2\n",
    "    # df = df[mask]\n",
    "    train_seq_len = df['len_text'].max()\n",
    "    print(\"\\nLength of {} text: \".format(type), df['len_text'].max())\n",
    "    df['text'] = df['text'].apply(remove_emoji)\n",
    "    df['text'] = df['text'].apply(remove_url)\n",
    "    df['text'] = df['text'].apply(clean_text)\n",
    "    le = LabelEncoder()\n",
    "    df['labels'] = le.fit_transform(df['sentiment'])\n",
    "    return df"
   ]
  },
  {
   "cell_type": "code",
   "execution_count": null,
   "id": "1efd3d5e",
   "metadata": {},
   "outputs": [],
   "source": [
    "train_data = processingText(r\"C:/Users/dines/Music/Work/pytorch_practice/PyTorchTweetTextClassification/train.csv\")\n",
    "test_data = processingText(r\"C:/Users/dines/Music/Work/pytorch_practice/PyTorchTweetTextClassification/test.csv\", 'test')"
   ]
  },
  {
   "cell_type": "code",
   "execution_count": null,
   "id": "e12951fd",
   "metadata": {},
   "outputs": [],
   "source": [
    "X_train, X_test, y_train, y_test = train_test_split(train_data['text'].tolist(), train_data['labels'].tolist(), test_size=0.2, stratify=train_data['labels'].tolist(), random_state=0)"
   ]
  },
  {
   "cell_type": "code",
   "execution_count": null,
   "id": "53901974",
   "metadata": {},
   "outputs": [],
   "source": [
    "print('Train data len:'+str(len(X_train)))\n",
    "print('Class distribution'+str(Counter(y_train)))\n",
    "\n",
    "\n",
    "print('Valid data len:'+str(len(X_test)))\n",
    "print('Class distribution'+ str(Counter(y_test)))\n",
    "\n",
    "print('Test data len:'+str(len(test_data['text'].tolist())))\n",
    "print('Class distribution'+ str(Counter(test_data['labels'].tolist())))"
   ]
  },
  {
   "cell_type": "code",
   "execution_count": null,
   "id": "b1bb6fdc",
   "metadata": {},
   "outputs": [],
   "source": [
    "train_data = list(zip(X_train, y_train))\n",
    "val_data = list(zip(X_test, y_test))\n",
    "test_data = list(zip(test_data['text'].tolist(), test_data['labels'].tolist()))"
   ]
  },
  {
   "cell_type": "code",
   "execution_count": null,
   "id": "2a832c1d",
   "metadata": {},
   "outputs": [],
   "source": [
    "device = torch.device('cuda' if torch.cuda.is_available() else 'cpu')"
   ]
  },
  {
   "cell_type": "code",
   "execution_count": null,
   "id": "1b8702c8",
   "metadata": {},
   "outputs": [],
   "source": []
  },
  {
   "cell_type": "code",
   "execution_count": null,
   "id": "f8d9303e",
   "metadata": {},
   "outputs": [],
   "source": [
    "from torchtext.data.utils import get_tokenizer\n",
    "from torchtext.vocab import build_vocab_from_iterator\n",
    "\n",
    "tokenizer = get_tokenizer('basic_english')\n",
    "def yield_token(data):\n",
    "    for text, _ in data:\n",
    "        yield tokenizer(text)\n",
    "\n",
    "\n",
    "vocab = build_vocab_from_iterator(yield_token(train_data), specials=['<unk>'])\n",
    "vocab.set_default_index(vocab['<unk>'])\n",
    "# vocab.get_stoi()"
   ]
  },
  {
   "cell_type": "code",
   "execution_count": null,
   "id": "7c181f6f",
   "metadata": {},
   "outputs": [],
   "source": [
    "text_pipeline = lambda x: vocab(tokenizer(x))\n",
    "label_pipeline = lambda x: int(x)"
   ]
  },
  {
   "cell_type": "code",
   "execution_count": null,
   "id": "d63f9069",
   "metadata": {},
   "outputs": [],
   "source": [
    "text_pipeline('hi there how are you')"
   ]
  },
  {
   "cell_type": "code",
   "execution_count": null,
   "id": "5a0712a5",
   "metadata": {},
   "outputs": [],
   "source": [
    "from torchtext.data.utils import get_tokenizer\n",
    "from torchtext.vocab import build_vocab_from_iterator\n",
    "\n",
    "tokenizer = get_tokenizer('basic_english')\n",
    "\n",
    "def yield_token(data):\n",
    "    for text, _ in data:\n",
    "        yield tokenizer(text)\n",
    "        \n",
    "vocab = build_vocab_from_iterator(yield_token(train_data), specials=['<unk>'])\n",
    "vocab.set_default_index(vocab['<unk>'])\n"
   ]
  },
  {
   "cell_type": "code",
   "execution_count": null,
   "id": "8b331467",
   "metadata": {},
   "outputs": [],
   "source": [
    "text_pipeline = lambda x: vocab(tokenizer(x))\n",
    "label_pipeline = lambda x: int(x)\n",
    "\n",
    "text_pipeline('are you there')"
   ]
  },
  {
   "cell_type": "code",
   "execution_count": null,
   "id": "29e4a6a2",
   "metadata": {},
   "outputs": [],
   "source": []
  },
  {
   "cell_type": "code",
   "execution_count": null,
   "id": "ebaa5a87",
   "metadata": {},
   "outputs": [],
   "source": [
    "from torch import nn\n",
    "import torch.nn.functional as F\n",
    "\n",
    "class TextClassificationModel(nn.Module):\n",
    "\n",
    "    def __init__(self, vocab_size, embed_dim, num_class):\n",
    "        super(TextClassificationModel, self).__init__()\n",
    "        self.embedding = nn.EmbeddingBag(vocab_size, embed_dim, sparse=True)\n",
    "        self.fc1 = nn.Linear(embed_dim,64)\n",
    "        self.fc2 = nn.Linear(64,16)\n",
    "        self.fc3 = nn.Linear(16, num_class)\n",
    "        self.init_weights()\n",
    "\n",
    "    def init_weights(self):\n",
    "        initrange = 0.5\n",
    "        self.embedding.weight.data.uniform_(-initrange, initrange)\n",
    "        self.fc1.weight.data.uniform_(-initrange, initrange)\n",
    "        self.fc1.bias.data.zero_()\n",
    "        self.fc2.weight.data.uniform_(-initrange, initrange)\n",
    "        self.fc2.bias.data.zero_()\n",
    "        self.fc3.weight.data.uniform_(-initrange, initrange)\n",
    "        self.fc3.bias.data.zero_()\n",
    "\n",
    "    def forward(self, text, offsets):\n",
    "        embedded = self.embedding(text, offsets)\n",
    "        x = F.relu(self.fc1(embedded))\n",
    "        x = F.relu(self.fc2(x))\n",
    "        x = self.fc3(x)\n",
    "        return x"
   ]
  },
  {
   "cell_type": "code",
   "execution_count": null,
   "id": "98a36d9c",
   "metadata": {},
   "outputs": [],
   "source": [
    "class TextClassificationModel(nn.Module):\n",
    "    def __init__(self, vocab_size, embed_dim, num_classes):\n",
    "        super(TextClassificationModel, self)\n",
    "        self.embedding = nn.Embedding"
   ]
  },
  {
   "cell_type": "code",
   "execution_count": null,
   "id": "2c1a23df",
   "metadata": {},
   "outputs": [],
   "source": []
  },
  {
   "cell_type": "code",
   "execution_count": null,
   "id": "a73d47ea",
   "metadata": {},
   "outputs": [],
   "source": [
    "import torch, os\n",
    "import torch.nn as nn\n",
    "from torch.utils.data import DataLoader, WeightedRandomSampler\n",
    "import torchvision.transforms as transforms\n",
    "import torchvision.datasets as datasets"
   ]
  },
  {
   "cell_type": "code",
   "execution_count": null,
   "id": "f5356236",
   "metadata": {},
   "outputs": [],
   "source": [
    "path = r\"C:\\Users\\dines\\Music\\Work\\pytorch_practice\\imbalanced_dataset\\dataset\""
   ]
  },
  {
   "cell_type": "code",
   "execution_count": null,
   "id": "fc62225c",
   "metadata": {},
   "outputs": [],
   "source": [
    "my_transform = transforms.Compose([\n",
    "    transforms.Resize((224, 224)),\n",
    "    transforms.ToTensor()\n",
    "])"
   ]
  },
  {
   "cell_type": "code",
   "execution_count": null,
   "id": "80d1ebe1",
   "metadata": {},
   "outputs": [],
   "source": [
    "dataset = datasets.ImageFolder(root=path, transform=my_transform)"
   ]
  },
  {
   "cell_type": "code",
   "execution_count": null,
   "id": "9f5174be",
   "metadata": {},
   "outputs": [],
   "source": [
    "dirs = dataset.classes"
   ]
  },
  {
   "cell_type": "code",
   "execution_count": null,
   "id": "171299f3",
   "metadata": {},
   "outputs": [],
   "source": [
    "class_weights = []\n",
    "for subdir in dirs:\n",
    "    files = os.listdir(os.path.join(path, subdir))\n",
    "    class_weights.append(1/len(files))\n",
    "class_weights"
   ]
  },
  {
   "cell_type": "code",
   "execution_count": null,
   "id": "689bc8cf",
   "metadata": {},
   "outputs": [],
   "source": [
    "sample_weights = [0]*len(dataset)"
   ]
  },
  {
   "cell_type": "code",
   "execution_count": null,
   "id": "1974e70d",
   "metadata": {},
   "outputs": [],
   "source": [
    "class_weights"
   ]
  },
  {
   "cell_type": "code",
   "execution_count": null,
   "id": "39e3bf3a",
   "metadata": {},
   "outputs": [],
   "source": [
    "for idx, (data, labels) in enumerate(dataset):\n",
    "    class_weight = class_weights[labels]\n",
    "    sample_weights[idx] = class_weight"
   ]
  },
  {
   "cell_type": "code",
   "execution_count": null,
   "id": "6b7e231c",
   "metadata": {},
   "outputs": [],
   "source": [
    "path = r\"C:\\Users\\dines\\Music\\Work\\pytorch_practice\\imbalanced_dataset\\dataset\""
   ]
  },
  {
   "cell_type": "code",
   "execution_count": null,
   "id": "8d41c33c",
   "metadata": {},
   "outputs": [],
   "source": [
    "import torch, os\n",
    "import torch.nn as nn\n",
    "from torch.utils.data import DataLoader, WeightedRandomSampler\n",
    "import torchvision.transforms as transforms\n",
    "import torchvision.datasets as datasets"
   ]
  },
  {
   "cell_type": "code",
   "execution_count": null,
   "id": "81259a06",
   "metadata": {},
   "outputs": [],
   "source": [
    "my_transform = transforms.Compose([\n",
    "    transforms.Resize((224, 224)),\n",
    "    transforms.ToTensor()\n",
    "])"
   ]
  },
  {
   "cell_type": "code",
   "execution_count": null,
   "id": "29ea61be",
   "metadata": {},
   "outputs": [],
   "source": [
    "dataset = datasets.ImageFolder(root=path, transform=my_transform)"
   ]
  },
  {
   "cell_type": "code",
   "execution_count": null,
   "id": "9e9f06e6",
   "metadata": {},
   "outputs": [],
   "source": [
    "folds = dataset.classes"
   ]
  },
  {
   "cell_type": "code",
   "execution_count": null,
   "id": "e4479077",
   "metadata": {},
   "outputs": [],
   "source": [
    "class_weights = []\n",
    "for sub_fold in folds:\n",
    "    files = os.listdir(os.path.join(path, sub_fold))\n",
    "    class_weights.append(1/len(files))"
   ]
  },
  {
   "cell_type": "code",
   "execution_count": null,
   "id": "50d5e218",
   "metadata": {},
   "outputs": [],
   "source": [
    "sample_weights = [0]*len(dataset)"
   ]
  },
  {
   "cell_type": "code",
   "execution_count": null,
   "id": "b0bc9fd8",
   "metadata": {},
   "outputs": [],
   "source": [
    "for idx, (data, label) in enumerate(dataset):\n",
    "    class_weight = class_weights[label]\n",
    "    sample_weights[idx] = class_weight"
   ]
  },
  {
   "cell_type": "code",
   "execution_count": null,
   "id": "ba400fc4",
   "metadata": {},
   "outputs": [],
   "source": [
    "sampler = WeightedRandomSampler(sample_weights, num_samples=len(sample_weights), replacement=True)"
   ]
  },
  {
   "cell_type": "code",
   "execution_count": null,
   "id": "a34f594e",
   "metadata": {},
   "outputs": [],
   "source": [
    "loader = DataLoader(dataset=dataset, batch_size=8, sampler=sampler)"
   ]
  },
  {
   "cell_type": "code",
   "execution_count": null,
   "id": "6c457bee",
   "metadata": {},
   "outputs": [],
   "source": [
    "num_retrivers = 0\n",
    "num_elkonds = 0\n",
    "for epoch in range(10):\n",
    "    for data, label in loader:\n",
    "        num_retrivers += torch.sum(label == 0)\n",
    "        num_elkonds += torch.sum(label == 1)"
   ]
  },
  {
   "cell_type": "code",
   "execution_count": null,
   "id": "962fc2a2",
   "metadata": {},
   "outputs": [],
   "source": [
    "num_retrivers"
   ]
  },
  {
   "cell_type": "code",
   "execution_count": null,
   "id": "b0831c0f",
   "metadata": {},
   "outputs": [],
   "source": [
    "num_elkonds"
   ]
  },
  {
   "cell_type": "code",
   "execution_count": null,
   "id": "03b762e2",
   "metadata": {},
   "outputs": [],
   "source": [
    "import torch\n",
    "\n",
    "x = torch.randn(3, 4, requires_grad=True)  # create a non-scalar tensor with requires_grad=True\n",
    "y = x**2 + 3*x + 1  # perform some operations on the tensor\n",
    "z = y.mean()  # compute the mean of the tensor to obtain a scalar-valued tensor\n",
    "grad_x = torch.autograd.grad(z, x)  # compute gradients of z with respect to x\n",
    "print(grad_x)  # print gradients\n"
   ]
  },
  {
   "cell_type": "code",
   "execution_count": null,
   "id": "4e799025",
   "metadata": {},
   "outputs": [],
   "source": [
    "import torch\n",
    "\n",
    "x = torch.randn(3, 4, requires_grad=True)\n",
    "y = x**2 + 3*x + 1\n",
    "z = y.mean()\n",
    "grad_x = torch.autograd.grad(z, x)\n",
    "print(grad_x)"
   ]
  },
  {
   "cell_type": "code",
   "execution_count": null,
   "id": "757d56fe",
   "metadata": {},
   "outputs": [],
   "source": [
    "y = x**2 + 3*x + 1\n",
    "# y.mean()\n",
    "y"
   ]
  },
  {
   "cell_type": "code",
   "execution_count": null,
   "id": "c91223cb",
   "metadata": {},
   "outputs": [],
   "source": [
    "[[1, 2, 3],\n",
    " [4, 5, 6],\n",
    " [7, 8, 9],]"
   ]
  },
  {
   "cell_type": "code",
   "execution_count": 31,
   "id": "f92d7da6",
   "metadata": {},
   "outputs": [],
   "source": [
    "import sys\n",
    "\n",
    "sys.path.append(r\"C:\\Users\\dines\\Music\\Work\\pytorch_practice\\captcha-recognition-pytorch\")\n",
    "import dataset\n",
    "\n",
    "import torch\n",
    "from glob import glob\n",
    "import os, re\n",
    "from sklearn.preprocessing import LabelEncoder\n",
    "from sklearn.model_selection import train_test_split\n",
    "import numpy as np\n",
    "from torch.utils.data import DataLoader\n",
    "import matplotlib.pyplot as plt\n",
    "import config"
   ]
  },
  {
   "cell_type": "code",
   "execution_count": 5,
   "id": "e02a52f0",
   "metadata": {},
   "outputs": [],
   "source": [
    "image_files = glob(os.path.join(config.DATA_DIR, '*.png'))\n",
    "list_targets = [re.split(r\"\\\\|\\.\", img)[-2] for img in image_files]\n",
    "targets = [[c for c in target] for target in list_targets]\n",
    "flat_targets = [c for t in targets for c in t]\n",
    "le = LabelEncoder()\n",
    "le.fit(flat_targets)\n",
    "le_enc = [le.transform(t) for t in targets]\n",
    "le_enc = np.array(le_enc) + 1\n",
    "(\n",
    "    train_imgs,\n",
    "    test_imgs,\n",
    "    train_target,\n",
    "    test_target,\n",
    "    _,\n",
    "    test_target_origin) = train_test_split(image_files, le_enc, list_targets, train_size=0.1, random_state=42)\n",
    "\n",
    "train_dataset = dataset.ClassificationDataset(\n",
    "    image_paths=train_imgs,\n",
    "    targets=train_target,\n",
    "    resize=(config.IMAGE_HEIGHT, config.IMAGE_WIDTH)\n",
    ")\n",
    "\n",
    "train_load = DataLoader(train_dataset, batch_size=config.BATCH_SIZE, shuffle=True, num_workers=config.NUM_WORKERS)"
   ]
  },
  {
   "cell_type": "code",
   "execution_count": 40,
   "id": "562196ff",
   "metadata": {},
   "outputs": [
    {
     "name": "stderr",
     "output_type": "stream",
     "text": [
      "Clipping input data to the valid range for imshow with RGB data ([0..1] for floats or [0..255] for integers).\n"
     ]
    },
    {
     "data": {
      "image/png": "[encoded data removed]",
      "text/plain": [
       "<Figure size 640x480 with 1 Axes>"
      ]
     },
     "metadata": {},
     "output_type": "display_data"
    },
    {
     "name": "stdout",
     "output_type": "stream",
     "text": [
      "[ 4. 15.  2. 17.  3.]\n"
     ]
    }
   ],
   "source": [
    "plt.imshow(np.transpose(train_dataset[0]['images'].numpy(), (1, 2, 0)))\n",
    "plt.show()\n",
    "print(train_dataset[0]['targets'].numpy())"
   ]
  },
  {
   "cell_type": "code",
   "execution_count": 79,
   "id": "82c6a887",
   "metadata": {},
   "outputs": [],
   "source": [
    "# for data in tqdm(train_load):\n",
    "#     for images, targets in data.items():\n",
    "#         print(images, targets)\n",
    "#         break\n",
    "#     break"
   ]
  },
  {
   "cell_type": "code",
   "execution_count": null,
   "id": "cc88e722",
   "metadata": {},
   "outputs": [],
   "source": []
  },
  {
   "cell_type": "code",
   "execution_count": 67,
   "id": "85885e3d",
   "metadata": {},
   "outputs": [],
   "source": [
    "# tk0 = tqdm(train_load, total=len(train_load))"
   ]
  },
  {
   "cell_type": "code",
   "execution_count": 89,
   "id": "f5c507b6",
   "metadata": {},
   "outputs": [
    {
     "name": "stdout",
     "output_type": "stream",
     "text": [
      "tensor(1.8332, grad_fn=<NllLossBackward0>)\n",
      "tensor(1.8332, grad_fn=<NllLossBackward0>)\n"
     ]
    }
   ],
   "source": [
    "# Define the model\n",
    "class Model(nn.Module):\n",
    "    def __init__(self):\n",
    "        super(Model, self).__init__()\n",
    "        self.linear = nn.Linear(10, 5)\n",
    "    \n",
    "    def forward(self, x):\n",
    "        out = self.linear(x)\n",
    "        return out\n",
    "\n",
    "# Define the loss function\n",
    "criterion1 = nn.CrossEntropyLoss()\n",
    "criterion2 = nn.NLLLoss()\n",
    "\n",
    "# Define the input and target\n",
    "x = torch.randn(3, 10)\n",
    "y = torch.tensor([1, 3, 2])\n",
    "\n",
    "# Compute the loss using nn.CrossEntropyLoss\n",
    "output = Model()(x)\n",
    "loss1 = criterion1(output, y)\n",
    "print(loss1)\n",
    "\n",
    "# Compute the loss using nn.NLLLoss\n",
    "log_prob = nn.LogSoftmax(dim=1)(output)\n",
    "loss2 = criterion2(log_prob, y)\n",
    "print(loss2)\n"
   ]
  },
  {
   "cell_type": "code",
   "execution_count": 113,
   "id": "1271a7a4",
   "metadata": {},
   "outputs": [
    {
     "data": {
      "text/plain": [
       "tensor(1.6112, grad_fn=<NllLossBackward0>)"
      ]
     },
     "execution_count": 113,
     "metadata": {},
     "output_type": "execute_result"
    }
   ],
   "source": [
    "import torch.nn as nn\n",
    "\n",
    "class Model(nn.Module):\n",
    "    def __init__(self,):\n",
    "        super(Model, self).__init__()\n",
    "        self.fc1 = nn.Linear(10, 5)\n",
    "        \n",
    "    def forward(self, x):\n",
    "        out = self.fc1(x)\n",
    "        return out\n",
    "\n",
    "x = torch.randn(3, 10)\n",
    "y = torch.tensor([1, 2, 3])\n",
    "\n",
    "criterion1 = nn.CrossEntropyLoss()\n",
    "criterion2 = nn.NLLLoss()\n",
    "\n",
    "output = Model()(x)\n",
    "print(criterion1(output, y))\n",
    "\n",
    "nn.Log"
   ]
  },
  {
   "cell_type": "code",
   "execution_count": 112,
   "id": "4d50935c",
   "metadata": {},
   "outputs": [
    {
     "data": {
      "text/plain": [
       "tensor([[ 0.2313,  0.6508,  0.4546,  0.6110, -0.0449],\n",
       "        [ 0.0241,  0.1521, -0.0199,  0.7970, -0.2015],\n",
       "        [-0.2117,  0.1482,  0.8465, -1.3221, -0.6621]],\n",
       "       grad_fn=<AddmmBackward0>)"
      ]
     },
     "execution_count": 112,
     "metadata": {},
     "output_type": "execute_result"
    }
   ],
   "source": [
    "output"
   ]
  },
  {
   "cell_type": "code",
   "execution_count": 119,
   "id": "7c75d1e8",
   "metadata": {},
   "outputs": [
    {
     "data": {
      "text/plain": [
       "tensor([[14,  4,  7,  1, 14]])"
      ]
     },
     "execution_count": 119,
     "metadata": {},
     "output_type": "execute_result"
    }
   ],
   "source": [
    "torch.randint(1, 20, (1, 5))"
   ]
  },
  {
   "cell_type": "code",
   "execution_count": 137,
   "id": "76d10674",
   "metadata": {},
   "outputs": [
    {
     "name": "stdout",
     "output_type": "stream",
     "text": [
      "torch.Size([1, 64, 18, 75])\n",
      "torch.Size([1, 64, 1350])\n"
     ]
    },
    {
     "data": {
      "text/plain": [
       "torch.Size([1, 1350, 64])"
      ]
     },
     "execution_count": 137,
     "metadata": {},
     "output_type": "execute_result"
    }
   ],
   "source": [
    "x = torch.randn([1, 64, 18, 75])\n",
    "print(x.shape)\n",
    "x = x.view(1, x.size(1), -1)\n",
    "print(x.shape)\n",
    "x.transpose(1, 2).shape"
   ]
  },
  {
   "cell_type": "code",
   "execution_count": 166,
   "id": "8ab86e97",
   "metadata": {
    "scrolled": true
   },
   "outputs": [
    {
     "name": "stdout",
     "output_type": "stream",
     "text": [
      "torch.Size([1, 64, 18, 75])\n",
      "torch.Size([1, 75, 64, 18])\n"
     ]
    },
    {
     "data": {
      "text/plain": [
       "torch.Size([1, 75, 1152])"
      ]
     },
     "execution_count": 166,
     "metadata": {},
     "output_type": "execute_result"
    }
   ],
   "source": [
    "x = torch.randn([1, 64, 18, 75])\n",
    "print(x.shape)\n",
    "x = x.permute(0, 3, 1, 2)\n",
    "print(x.shape)\n",
    "x.view(1, x.size(1), -1).shape"
   ]
  },
  {
   "cell_type": "code",
   "execution_count": 167,
   "id": "9c8ae2ac",
   "metadata": {},
   "outputs": [
    {
     "data": {
      "text/plain": [
       "torch.nn.modules.loss.CrossEntropyLoss"
      ]
     },
     "execution_count": 167,
     "metadata": {},
     "output_type": "execute_result"
    }
   ],
   "source": [
    "nn.CrossEntropyLoss"
   ]
  },
  {
   "cell_type": "code",
   "execution_count": null,
   "id": "d6786416",
   "metadata": {},
   "outputs": [],
   "source": []
  },
  {
   "cell_type": "code",
   "execution_count": 179,
   "id": "10f271e2",
   "metadata": {},
   "outputs": [
    {
     "name": "stdout",
     "output_type": "stream",
     "text": [
      "torch.Size([1, 128, 75, 300])\n",
      "torch.Size([1, 128, 37, 150])\n",
      "torch.Size([1, 64, 37, 150])\n",
      "torch.Size([1, 64, 18, 75])\n"
     ]
    }
   ],
   "source": []
  },
  {
   "cell_type": "code",
   "execution_count": 180,
   "id": "a482abc0",
   "metadata": {},
   "outputs": [
    {
     "data": {
      "text/plain": [
       "1350"
      ]
     },
     "execution_count": 180,
     "metadata": {},
     "output_type": "execute_result"
    }
   ],
   "source": [
    "1. I want one window with user changeable, based on requirement.\n",
    "2. I want 2 text fields along with 2 choose file buttons, text fields and choose file buttons sizes should be user changeable based on their requirement, I want these choose file buttons should be right side of every text field, whenever user choose any file, file should be visible in text fields.\n",
    "3. after those 2 text fields, I want separate line like (----------------------) for next text fields and other elements.\n",
    "4. after line separate, I want 4 more text fields with 4 more choose file buttons, sizes should be user changeable based on their requirement, I want these choose file buttons should be right side of every text field, whenever user choose any file, file should be visible in text fields.\n",
    "5. I want 3 different drop downs, I want left to right format, not top to down, size should be user changeable based on their requirement . \n",
    "6. 2 simple text areas with \"ex1\", \"ex2\", these should be left to right format, size should be user changeable based on their requirement . \n",
    "7. I need 2 buttons, one is \"Skip\" once user choose skip, window should be close without printing aything, other one is \"Submit\" If user choose Submit button, all values should be print which user has choose above.\n",
    "8. Lastly, I want this window generating code in one class, that is \"WindowGenerating\" class, I want other class name is \"Main\", I want to inherit \"WindowGenerating\" to \"main\" class, user should call \"main\" class and then window should appear"
   ]
  },
  {
   "cell_type": "code",
   "execution_count": null,
   "id": "700d24ac",
   "metadata": {},
   "outputs": [],
   "source": []
  },
  {
   "cell_type": "code",
   "execution_count": null,
   "id": "9e2400fc",
   "metadata": {},
   "outputs": [],
   "source": []
  },
  {
   "cell_type": "code",
   "execution_count": 274,
   "id": "2f2c40f6",
   "metadata": {},
   "outputs": [
    {
     "name": "stdout",
     "output_type": "stream",
     "text": [
      "torch.Size([1, 128, 75, 300])\n",
      "torch.Size([1, 128, 37, 150])\n",
      "torch.Size([1, 64, 37, 150])\n",
      "torch.Size([1, 64, 18, 75])\n",
      "torch.Size([1, 75, 64, 18])\n",
      "torch.Size([1, 75, 1152])\n",
      "torch.Size([1, 75, 64])\n",
      "torch.Size([1, 75, 64])\n",
      "torch.Size([1, 75, 64])\n",
      "torch.Size([1, 75, 20])\n",
      "torch.Size([75, 1, 20])\n",
      "torch.Size([75, 1, 20])\n",
      "tensor([75], dtype=torch.int32)\n"
     ]
    }
   ],
   "source": [
    "import torch\n",
    "import torch.nn as nn\n",
    "import torch.nn.functional as F\n",
    "\n",
    "class CaptchModel(nn.Module):\n",
    "    def __init__(self, num_char):\n",
    "        super(CaptchModel, self).__init__()\n",
    "        self.conv1 = nn.Conv2d(3, 128, kernel_size=(3, 3), padding=(1, 1))\n",
    "        self.pool1 = nn.MaxPool2d(kernel_size=(2, 2))\n",
    "        self.conv2 = nn.Conv2d(128, 64, kernel_size=(3, 3), padding=(1, 1))\n",
    "        self.pool2 = nn.MaxPool2d(kernel_size=(2, 2))\n",
    "        self.fc1 = nn.Linear(1152, 64)\n",
    "        self.drop = nn.Dropout(0.2)\n",
    "        self.lstm = nn.GRU(64, 32, bidirectional=True, dropout=0.25, batch_first=True)\n",
    "        self.fc2 = nn.Linear(64, num_char+1)\n",
    "        \n",
    "    def forward(self, images, targets):\n",
    "        btch, channels, height, width = images.size()\n",
    "        x = self.conv1(images)\n",
    "        print(x.size())\n",
    "        x = self.pool1(x)\n",
    "        print(x.size())\n",
    "        x = self.conv2(x)\n",
    "        print(x.size())\n",
    "        x = self.pool2(x)\n",
    "        print(x.size())\n",
    "        x = x.permute(0, 3, 1, 2)\n",
    "        print(x.size())\n",
    "        x = x.view(btch, x.size(1), -1)\n",
    "        print(x.size())\n",
    "        x = F.relu(self.fc1(x))\n",
    "        print(x.size())\n",
    "        x = self.drop(x)\n",
    "        print(x.size())\n",
    "        x, _ = self.lstm(x)\n",
    "        print(x.size())\n",
    "        x = F.relu(self.fc2(x))\n",
    "        print(x.size())\n",
    "        x = x.permute(1, 0, 2)\n",
    "        print(x.size())\n",
    "        if targets is not None:\n",
    "            log_prob = F.log_softmax(x, 2)\n",
    "            print(log_prob.size())\n",
    "            input_lengths = torch.full(size=(btch, ), fill_value=log_prob.size(0), dtype=torch.int32\n",
    "            )\n",
    "            print(input_lengths)\n",
    "        return x, None\n",
    "\n",
    "if __name__ == \"__main__\":\n",
    "    cm = CaptchModel(19)\n",
    "    images = torch.randn(1, 3, 75, 300)\n",
    "    targets = torch.randint(1, 20, (1, 19))\n",
    "    cm(images, targets)"
   ]
  },
  {
   "cell_type": "code",
   "execution_count": 278,
   "id": "b0306136",
   "metadata": {},
   "outputs": [
    {
     "ename": "RuntimeError",
     "evalue": "input_lengths must be of size batch_size",
     "output_type": "error",
     "traceback": [
      "\u001b[1;31m---------------------------------------------------------------------------\u001b[0m",
      "\u001b[1;31mRuntimeError\u001b[0m                              Traceback (most recent call last)",
      "\u001b[1;32m~\\AppData\\Local\\Temp\\ipykernel_8544\\308123352.py\u001b[0m in \u001b[0;36m<module>\u001b[1;34m\u001b[0m\n\u001b[0;32m     12\u001b[0m \u001b[0moutput_seq_lengths\u001b[0m \u001b[1;33m=\u001b[0m \u001b[0mtorch\u001b[0m\u001b[1;33m.\u001b[0m\u001b[0mfull\u001b[0m\u001b[1;33m(\u001b[0m\u001b[0msize\u001b[0m\u001b[1;33m=\u001b[0m\u001b[1;33m(\u001b[0m\u001b[1;36m32\u001b[0m\u001b[1;33m,\u001b[0m\u001b[1;33m)\u001b[0m\u001b[1;33m,\u001b[0m \u001b[0mfill_value\u001b[0m\u001b[1;33m=\u001b[0m\u001b[1;36m15\u001b[0m\u001b[1;33m,\u001b[0m \u001b[0mdtype\u001b[0m\u001b[1;33m=\u001b[0m\u001b[0mtorch\u001b[0m\u001b[1;33m.\u001b[0m\u001b[0mint32\u001b[0m\u001b[1;33m)\u001b[0m \u001b[1;31m# output_seq_lengths[i] is the length of output_seq[i]\u001b[0m\u001b[1;33m\u001b[0m\u001b[1;33m\u001b[0m\u001b[0m\n\u001b[0;32m     13\u001b[0m \u001b[0minput_seq_lengths\u001b[0m \u001b[1;33m=\u001b[0m \u001b[0mtorch\u001b[0m\u001b[1;33m.\u001b[0m\u001b[0mfull\u001b[0m\u001b[1;33m(\u001b[0m\u001b[0msize\u001b[0m\u001b[1;33m=\u001b[0m\u001b[1;33m(\u001b[0m\u001b[1;36m32\u001b[0m\u001b[1;33m,\u001b[0m\u001b[1;33m)\u001b[0m\u001b[1;33m,\u001b[0m \u001b[0mfill_value\u001b[0m\u001b[1;33m=\u001b[0m\u001b[1;36m20\u001b[0m\u001b[1;33m,\u001b[0m \u001b[0mdtype\u001b[0m\u001b[1;33m=\u001b[0m\u001b[0mtorch\u001b[0m\u001b[1;33m.\u001b[0m\u001b[0mint32\u001b[0m\u001b[1;33m)\u001b[0m \u001b[1;31m# input_seq_lengths[i] is the length of input_seq[i]\u001b[0m\u001b[1;33m\u001b[0m\u001b[1;33m\u001b[0m\u001b[0m\n\u001b[1;32m---> 14\u001b[1;33m \u001b[0mloss\u001b[0m \u001b[1;33m=\u001b[0m \u001b[0mctc_loss\u001b[0m\u001b[1;33m(\u001b[0m\u001b[0minput_seq\u001b[0m\u001b[1;33m,\u001b[0m \u001b[0moutput_seq\u001b[0m\u001b[1;33m,\u001b[0m \u001b[0moutput_seq_lengths\u001b[0m\u001b[1;33m,\u001b[0m \u001b[0minput_seq_lengths\u001b[0m\u001b[1;33m)\u001b[0m\u001b[1;33m\u001b[0m\u001b[1;33m\u001b[0m\u001b[0m\n\u001b[0m\u001b[0;32m     15\u001b[0m \u001b[1;33m\u001b[0m\u001b[0m\n\u001b[0;32m     16\u001b[0m \u001b[0mprint\u001b[0m\u001b[1;33m(\u001b[0m\u001b[0mloss\u001b[0m\u001b[1;33m)\u001b[0m\u001b[1;33m\u001b[0m\u001b[1;33m\u001b[0m\u001b[0m\n",
      "\u001b[1;32m~\\AppData\\Roaming\\Python\\Python39\\site-packages\\torch\\nn\\modules\\module.py\u001b[0m in \u001b[0;36m_call_impl\u001b[1;34m(self, *args, **kwargs)\u001b[0m\n\u001b[0;32m   1499\u001b[0m                 \u001b[1;32mor\u001b[0m \u001b[0m_global_backward_pre_hooks\u001b[0m \u001b[1;32mor\u001b[0m \u001b[0m_global_backward_hooks\u001b[0m\u001b[1;33m\u001b[0m\u001b[1;33m\u001b[0m\u001b[0m\n\u001b[0;32m   1500\u001b[0m                 or _global_forward_hooks or _global_forward_pre_hooks):\n\u001b[1;32m-> 1501\u001b[1;33m             \u001b[1;32mreturn\u001b[0m \u001b[0mforward_call\u001b[0m\u001b[1;33m(\u001b[0m\u001b[1;33m*\u001b[0m\u001b[0margs\u001b[0m\u001b[1;33m,\u001b[0m \u001b[1;33m**\u001b[0m\u001b[0mkwargs\u001b[0m\u001b[1;33m)\u001b[0m\u001b[1;33m\u001b[0m\u001b[1;33m\u001b[0m\u001b[0m\n\u001b[0m\u001b[0;32m   1502\u001b[0m         \u001b[1;31m# Do not call functions when jit is used\u001b[0m\u001b[1;33m\u001b[0m\u001b[1;33m\u001b[0m\u001b[0m\n\u001b[0;32m   1503\u001b[0m         \u001b[0mfull_backward_hooks\u001b[0m\u001b[1;33m,\u001b[0m \u001b[0mnon_full_backward_hooks\u001b[0m \u001b[1;33m=\u001b[0m \u001b[1;33m[\u001b[0m\u001b[1;33m]\u001b[0m\u001b[1;33m,\u001b[0m \u001b[1;33m[\u001b[0m\u001b[1;33m]\u001b[0m\u001b[1;33m\u001b[0m\u001b[1;33m\u001b[0m\u001b[0m\n",
      "\u001b[1;32m~\\AppData\\Roaming\\Python\\Python39\\site-packages\\torch\\nn\\modules\\loss.py\u001b[0m in \u001b[0;36mforward\u001b[1;34m(self, log_probs, targets, input_lengths, target_lengths)\u001b[0m\n\u001b[0;32m   1754\u001b[0m \u001b[1;33m\u001b[0m\u001b[0m\n\u001b[0;32m   1755\u001b[0m     \u001b[1;32mdef\u001b[0m \u001b[0mforward\u001b[0m\u001b[1;33m(\u001b[0m\u001b[0mself\u001b[0m\u001b[1;33m,\u001b[0m \u001b[0mlog_probs\u001b[0m\u001b[1;33m:\u001b[0m \u001b[0mTensor\u001b[0m\u001b[1;33m,\u001b[0m \u001b[0mtargets\u001b[0m\u001b[1;33m:\u001b[0m \u001b[0mTensor\u001b[0m\u001b[1;33m,\u001b[0m \u001b[0minput_lengths\u001b[0m\u001b[1;33m:\u001b[0m \u001b[0mTensor\u001b[0m\u001b[1;33m,\u001b[0m \u001b[0mtarget_lengths\u001b[0m\u001b[1;33m:\u001b[0m \u001b[0mTensor\u001b[0m\u001b[1;33m)\u001b[0m \u001b[1;33m->\u001b[0m \u001b[0mTensor\u001b[0m\u001b[1;33m:\u001b[0m\u001b[1;33m\u001b[0m\u001b[1;33m\u001b[0m\u001b[0m\n\u001b[1;32m-> 1756\u001b[1;33m         return F.ctc_loss(log_probs, targets, input_lengths, target_lengths, self.blank, self.reduction,\n\u001b[0m\u001b[0;32m   1757\u001b[0m                           self.zero_infinity)\n\u001b[0;32m   1758\u001b[0m \u001b[1;33m\u001b[0m\u001b[0m\n",
      "\u001b[1;32m~\\AppData\\Roaming\\Python\\Python39\\site-packages\\torch\\nn\\functional.py\u001b[0m in \u001b[0;36mctc_loss\u001b[1;34m(log_probs, targets, input_lengths, target_lengths, blank, reduction, zero_infinity)\u001b[0m\n\u001b[0;32m   2629\u001b[0m             \u001b[0mblank\u001b[0m\u001b[1;33m=\u001b[0m\u001b[0mblank\u001b[0m\u001b[1;33m,\u001b[0m \u001b[0mreduction\u001b[0m\u001b[1;33m=\u001b[0m\u001b[0mreduction\u001b[0m\u001b[1;33m,\u001b[0m \u001b[0mzero_infinity\u001b[0m\u001b[1;33m=\u001b[0m\u001b[0mzero_infinity\u001b[0m\u001b[1;33m\u001b[0m\u001b[1;33m\u001b[0m\u001b[0m\n\u001b[0;32m   2630\u001b[0m         )\n\u001b[1;32m-> 2631\u001b[1;33m     return torch.ctc_loss(\n\u001b[0m\u001b[0;32m   2632\u001b[0m         \u001b[0mlog_probs\u001b[0m\u001b[1;33m,\u001b[0m \u001b[0mtargets\u001b[0m\u001b[1;33m,\u001b[0m \u001b[0minput_lengths\u001b[0m\u001b[1;33m,\u001b[0m \u001b[0mtarget_lengths\u001b[0m\u001b[1;33m,\u001b[0m \u001b[0mblank\u001b[0m\u001b[1;33m,\u001b[0m \u001b[0m_Reduction\u001b[0m\u001b[1;33m.\u001b[0m\u001b[0mget_enum\u001b[0m\u001b[1;33m(\u001b[0m\u001b[0mreduction\u001b[0m\u001b[1;33m)\u001b[0m\u001b[1;33m,\u001b[0m \u001b[0mzero_infinity\u001b[0m\u001b[1;33m\u001b[0m\u001b[1;33m\u001b[0m\u001b[0m\n\u001b[0;32m   2633\u001b[0m     )\n",
      "\u001b[1;31mRuntimeError\u001b[0m: input_lengths must be of size batch_size"
     ]
    }
   ],
   "source": [
    "import torch\n",
    "import torch.nn as nn\n",
    "\n",
    "# Define the input and output sequences\n",
    "input_seq = torch.randn(32, 20, 80) # batch_size x input_seq_len x num_features\n",
    "output_seq = torch.randint(low=0, high=28, size=(32, 15)) # batch_size x output_seq_len\n",
    "\n",
    "# Define the CTC loss function\n",
    "ctc_loss = nn.CTCLoss()\n",
    "\n",
    "# Compute the CTC loss\n",
    "output_seq_lengths = torch.full(size=(32,), fill_value=15, dtype=torch.int32) # output_seq_lengths[i] is the length of output_seq[i]\n",
    "input_seq_lengths = torch.full(size=(32,), fill_value=20, dtype=torch.int32) # input_seq_lengths[i] is the length of input_seq[i]\n",
    "loss = ctc_loss(input_seq, output_seq, output_seq_lengths, input_seq_lengths)\n",
    "\n",
    "print(loss)\n"
   ]
  },
  {
   "cell_type": "code",
   "execution_count": 348,
   "id": "977fe834",
   "metadata": {},
   "outputs": [
    {
     "name": "stdout",
     "output_type": "stream",
     "text": [
      "torch.Size([1, 128, 75, 300])\n",
      "torch.Size([1, 128, 37, 150])\n",
      "torch.Size([1, 64, 37, 150])\n",
      "torch.Size([1, 64, 18, 75])\n",
      "torch.Size([1, 75, 64, 18])\n",
      "torch.Size([1, 75, 1152])\n",
      "torch.Size([1, 75, 64])\n",
      "torch.Size([1, 75, 64])\n",
      "torch.Size([1, 75, 64])\n",
      "torch.Size([1, 75, 20])\n",
      "torch.Size([75, 1, 20])\n"
     ]
    }
   ],
   "source": [
    "import torch\n",
    "import torch.nn as nn\n",
    "import torch.nn.functional as F\n",
    "\n",
    "class CaptchModel(nn.Module):\n",
    "    def __init__(self, num_char):\n",
    "        super(CaptchModel, self).__init__()\n",
    "        self.conv1 = nn.Conv2d(3, 128, kernel_size=(3, 3), padding=(1, 1))\n",
    "        self.pool1 = nn.MaxPool2d(kernel_size=(2, 2))\n",
    "        self.conv2 = nn.Conv2d(128, 64, kernel_size=(3, 3), padding=(1, 1))\n",
    "        self.pool2 = nn.MaxPool2d(kernel_size=(2, 2))\n",
    "        self.fc1 = nn.Linear(1152, 64)\n",
    "        self.drop1 = nn.Dropout(0.2)\n",
    "        self.lstm = nn.GRU(64, 32, bidirectional=True, dropout=0.25, num_layers=2, batch_first=True)\n",
    "        self.fc2 = nn.Linear(64, num_char+1)\n",
    "    \n",
    "    def forward(self, images, targets):\n",
    "        btch, channels, height, width = images.size()\n",
    "        x = self.conv1(images)\n",
    "        print(x.size())\n",
    "        x = self.pool1(x)\n",
    "        print(x.size())\n",
    "        x = self.conv2(x)\n",
    "        print(x.size())\n",
    "        x = self.pool2(x)\n",
    "        print(x.size())\n",
    "        x = x.permute(0, 3, 1, 2)\n",
    "        print(x.size())\n",
    "        x = x.view(btch, x.size(1), -1)\n",
    "        print(x.size())\n",
    "        x = F.relu(self.fc1(x))\n",
    "        print(x.size())\n",
    "        x = self.drop1(x)\n",
    "        print(x.size())\n",
    "        x, _ = self.lstm(x)\n",
    "        print(x.size())\n",
    "        x = self.fc2(x) \n",
    "        print(x.size())\n",
    "        x = x.permute(1, 0, 2)\n",
    "        print(x.size())\n",
    "        if targets is not None:\n",
    "            log_probs = F.log_softmax(x, 2)\n",
    "            input_lengths = torch.full(\n",
    "                size=(btch,), fill_value=log_probs.size(0), dtype=torch.int32\n",
    "            )\n",
    "            target_lengths = torch.full(\n",
    "                size=(btch,), fill_value=targets.size(1), dtype=torch.int32\n",
    "            )\n",
    "            loss = nn.CTCLoss(blank=0)(\n",
    "                log_probs, targets, input_lengths, target_lengths\n",
    "            )\n",
    "            return x, loss\n",
    "        return x, None\n",
    "\n",
    "cm = CaptchModel(19)\n",
    "images = torch.randn(1, 3, 75, 300)\n",
    "targets = torch.randint(1, 20, (1, 19))\n",
    "x, loss = cm(images, targets)"
   ]
  },
  {
   "cell_type": "code",
   "execution_count": null,
   "id": "73693247",
   "metadata": {},
   "outputs": [],
   "source": []
  },
  {
   "cell_type": "code",
   "execution_count": null,
   "id": "55aa17ce",
   "metadata": {},
   "outputs": [],
   "source": []
  },
  {
   "cell_type": "code",
   "execution_count": 347,
   "id": "e1632fa4",
   "metadata": {},
   "outputs": [
    {
     "name": "stdout",
     "output_type": "stream",
     "text": [
      "torch.Size([5, 128, 75, 300])\n",
      "torch.Size([5, 128, 37, 150])\n",
      "torch.Size([5, 64, 37, 150])\n",
      "torch.Size([5, 64, 18, 75])\n",
      "torch.Size([5, 75, 64, 18])\n",
      "torch.Size([5, 75, 1152])\n",
      "torch.Size([5, 75, 64])\n",
      "torch.Size([5, 75, 64])\n",
      "torch.Size([5, 75, 64])\n",
      "torch.Size([5, 75, 20])\n",
      "torch.Size([75, 5, 20])\n",
      "tensor([75, 75, 75, 75, 75], dtype=torch.int32)\n",
      "tensor([5, 5, 5, 5, 5], dtype=torch.int32)\n"
     ]
    }
   ],
   "source": [
    "import torch\n",
    "from torch import nn\n",
    "from torch.nn import functional as F\n",
    "\n",
    "\n",
    "class CaptchaModel(nn.Module):\n",
    "    def __init__(self, num_chars):\n",
    "        super(CaptchaModel, self).__init__()\n",
    "        self.conv_1 = nn.Conv2d(3, 128, kernel_size=(3, 3), padding=(1, 1))\n",
    "        self.pool_1 = nn.MaxPool2d(kernel_size=(2, 2))\n",
    "        self.conv_2 = nn.Conv2d(128, 64, kernel_size=(3, 3), padding=(1, 1))\n",
    "        self.pool_2 = nn.MaxPool2d(kernel_size=(2, 2))\n",
    "        self.linear_1 = nn.Linear(1152, 64)\n",
    "        self.drop_1 = nn.Dropout(0.2)\n",
    "        self.lstm = nn.GRU(64, 32, bidirectional=True, num_layers=2, dropout=0.25, batch_first=True)\n",
    "        self.output = nn.Linear(64, num_chars + 1)\n",
    "\n",
    "    def forward(self, images, targets=None):\n",
    "        bs, _, _, _ = images.size()\n",
    "        x = F.relu(self.conv_1(images))\n",
    "        print(x.size())\n",
    "        x = self.pool_1(x)\n",
    "        print(x.size())\n",
    "        x = F.relu(self.conv_2(x))\n",
    "        print(x.size())\n",
    "        x = self.pool_2(x)\n",
    "        print(x.size())\n",
    "        x = x.permute(0, 3, 1, 2)\n",
    "        print(x.size())\n",
    "        x = x.view(bs, x.size(1), -1)\n",
    "        print(x.size())\n",
    "        x = F.relu(self.linear_1(x))\n",
    "        print(x.size())\n",
    "        x = self.drop_1(x)\n",
    "        print(x.size())\n",
    "        x, _ = self.lstm(x)\n",
    "        print(x.size())\n",
    "        x = self.output(x)\n",
    "        print(x.size())\n",
    "        x = x.permute(1, 0, 2)\n",
    "        print(x.size())\n",
    "\n",
    "        if targets is not None:\n",
    "            log_probs = F.log_softmax(x, 2)\n",
    "            input_lengths = torch.full(\n",
    "                size=(bs,), fill_value=log_probs.size(0), dtype=torch.int32\n",
    "            )\n",
    "            print(input_lengths)\n",
    "            target_lengths = torch.full(\n",
    "                size=(bs,), fill_value=targets.size(1), dtype=torch.int32\n",
    "            )\n",
    "            print(target_lengths)\n",
    "            loss = nn.CTCLoss(blank=0)(\n",
    "                log_probs, targets, input_lengths, target_lengths\n",
    "            )\n",
    "            return x, loss\n",
    "        \n",
    "        if targets is not None:\n",
    "            F.log_softmax\n",
    "        \n",
    "        return x, None\n",
    "        \n",
    "\n",
    "if __name__ == \"__main__\":\n",
    "    cm = CaptchaModel(19)\n",
    "    img = torch.rand((5, 3, 75, 300))\n",
    "    targets = torch.randint(1, 20, (5, 5))\n",
    "    x, _ = cm(img, targets)\n"
   ]
  },
  {
   "cell_type": "code",
   "execution_count": 346,
   "id": "d4f315c7",
   "metadata": {},
   "outputs": [],
   "source": [
    "# torch.randint(1, 20, (5, 5))"
   ]
  },
  {
   "cell_type": "code",
   "execution_count": null,
   "id": "a9a4ee21",
   "metadata": {},
   "outputs": [],
   "source": []
  },
  {
   "cell_type": "code",
   "execution_count": null,
   "id": "370e9ff9",
   "metadata": {},
   "outputs": [],
   "source": []
  },
  {
   "cell_type": "code",
   "execution_count": null,
   "id": "399f6c60",
   "metadata": {},
   "outputs": [],
   "source": []
  },
  {
   "cell_type": "code",
   "execution_count": null,
   "id": "c8419c59",
   "metadata": {},
   "outputs": [],
   "source": []
  },
  {
   "cell_type": "code",
   "execution_count": null,
   "id": "6c2ed2eb",
   "metadata": {},
   "outputs": [],
   "source": []
  }
 ],
 "metadata": {
  "kernelspec": {
   "display_name": "Python 3 (ipykernel)",
   "language": "python",
   "name": "python3"
  },
  "language_info": {
   "codemirror_mode": {
    "name": "ipython",
    "version": 3
   },
   "file_extension": ".py",
   "mimetype": "text/x-python",
   "name": "python",
   "nbconvert_exporter": "python",
   "pygments_lexer": "ipython3",
   "version": "3.9.13"
  }
 },
 "nbformat": 4,
 "nbformat_minor": 5
}
